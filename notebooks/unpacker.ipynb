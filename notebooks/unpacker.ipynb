{
 "cells": [
  {
   "cell_type": "code",
   "execution_count": 1,
   "metadata": {},
   "outputs": [],
   "source": [
    "import os\n",
    "import sys\n",
    "from pathlib import Path\n",
    "import fnmatch\n",
    "import shutil\n",
    "import numpy as np\n",
    "from PIL import Image "
   ]
  },
  {
   "cell_type": "code",
   "execution_count": 2,
   "metadata": {},
   "outputs": [],
   "source": [
    "name = \"LAWAND\"\n",
    "root_path = str(Path.cwd().parent)\n",
    "dataset_path = root_path + \"/datasets/\" + name\n",
    "\n",
    "source_name = \"ttw8\"\n",
    "source_path = root_path + \"/datasets/\" + source_name\n",
    "depth_data_path = source_path + \"/nn_depth\"\n",
    "wrench_data_path = source_path + \"/nn_wrap\"\n",
    "ply_data_path = source_path  + \"/ply\"\n",
    "num_files = int(len(fnmatch.filter(os.listdir(depth_data_path), \"*.png\")))\n",
    "dir_name = \"render\""
   ]
  },
  {
   "cell_type": "code",
   "execution_count": 3,
   "metadata": {},
   "outputs": [],
   "source": [
    "# Create all directories\n",
    "for i in range(num_files):\n",
    "    os.mkdir(dataset_path + \"/\" + dir_name + str(i))"
   ]
  },
  {
   "cell_type": "code",
   "execution_count": 4,
   "metadata": {},
   "outputs": [],
   "source": [
    "# Copy infered depth maps to the previous created directories\n",
    "for i in range(num_files):\n",
    "    file = depth_data_path + \"/\" + f\"{i}.png\"\n",
    "    destination = dataset_path + \"/\" + f\"render{i}\" + \"/\" + \"dmap.png\"\n",
    "    shutil.copy(file, destination)\n"
   ]
  },
  {
   "cell_type": "code",
   "execution_count": 5,
   "metadata": {},
   "outputs": [],
   "source": [
    "# Copy wrench images to the previous created directories\n",
    "for i in range(num_files):\n",
    "    file = wrench_data_path + \"/\" + f\"{i}.png\"\n",
    "    destination = dataset_path + \"/\" + f\"render{i}\" + \"/\" + \"image0.png\"\n",
    "    shutil.copy(file, destination)\n",
    "    \n"
   ]
  },
  {
   "cell_type": "code",
   "execution_count": 6,
   "metadata": {},
   "outputs": [],
   "source": [
    "# Converting depth images to npy files\n",
    "for i in range(num_files):\n",
    "    depth_img_path = dataset_path + \"/\" + f\"render{i}\" + \"/\" + \"dmap.png\"\n",
    "    depth_img = Image.open(depth_img_path)\n",
    "    data = np.array(depth_img, dtype='float32')\n",
    "    file_name = depth_img_path = dataset_path + \"/\" + f\"render{i}\" + \"/\" + \"dmap.npy\"\n",
    "    np.save( file_name, data)\n",
    "    "
   ]
  },
  {
   "cell_type": "code",
   "execution_count": 53,
   "metadata": {},
   "outputs": [],
   "source": [
    "depth_img_path = dataset_path + \"/\" + f\"render{i}\" + \"/\" + \"dmap.png\"\n",
    "depth_img = Image.open(depth_img_path)"
   ]
  },
  {
   "cell_type": "code",
   "execution_count": 59,
   "metadata": {},
   "outputs": [],
   "source": [
    "data = np.array(depth_img, dtype='float32')"
   ]
  },
  {
   "cell_type": "code",
   "execution_count": 7,
   "metadata": {},
   "outputs": [],
   "source": [
    "for i in range(num_files):\n",
    "    file = ply_data_path + \"/\" + f\"{i}.ply\"\n",
    "    destination = dataset_path + \"/\" + f\"render{i}\" + \"/\" + f\"{i}.ply\"\n",
    "    shutil.copy(file, destination)"
   ]
  },
  {
   "cell_type": "code",
   "execution_count": null,
   "metadata": {},
   "outputs": [],
   "source": []
  }
 ],
 "metadata": {
  "kernelspec": {
   "display_name": "danbots",
   "language": "python",
   "name": "python3"
  },
  "language_info": {
   "codemirror_mode": {
    "name": "ipython",
    "version": 3
   },
   "file_extension": ".py",
   "mimetype": "text/x-python",
   "name": "python",
   "nbconvert_exporter": "python",
   "pygments_lexer": "ipython3",
   "version": "3.10.13"
  }
 },
 "nbformat": 4,
 "nbformat_minor": 2
}
