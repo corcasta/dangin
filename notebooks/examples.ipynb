{
 "cells": [
  {
   "cell_type": "code",
   "execution_count": 1,
   "metadata": {},
   "outputs": [],
   "source": [
    "import copy\n",
    "import yaml\n",
    "import pathlib\n",
    "import numpy as np\n",
    "import open3d as o3d\n",
    "from dangin import Stitcher, dataloader_dmap, dataloader_ply"
   ]
  },
  {
   "cell_type": "markdown",
   "metadata": {},
   "source": [
    "## Set initial config to work with"
   ]
  },
  {
   "cell_type": "code",
   "execution_count": 2,
   "metadata": {},
   "outputs": [],
   "source": [
    "# Select one dataset\n",
    "dataset = 'LA200'\n",
    "root_path = str(pathlib.Path('').parent.resolve().parent)\n",
    "config_path = root_path + \"/\" + \"config.yaml\"\n",
    "dataset_path = root_path + f'/datasets/{dataset}'\n",
    "with open(config_path, \"rt\") as f:\n",
    "    config = yaml.safe_load(f.read())"
   ]
  },
  {
   "cell_type": "markdown",
   "metadata": {},
   "source": [
    "## The following two cells will guide you to work with a rolling window approach.\n",
    "### This means that instead of adding a new PCD (point cloud) and comparing it to ALL accumulated points it will only compare it to the rolling window points."
   ]
  },
  {
   "cell_type": "code",
   "execution_count": 3,
   "metadata": {},
   "outputs": [],
   "source": [
    "pcds_rolling_window = 5             # Represents how many previous point clouds are going to be used \n",
    "                                    # as matching reference for the new point cloud .\n",
    "pcd_size = 128*128                  # Each point cloud is composed of 128*128 points, its self explanatory.\n",
    "\n",
    "# When you sum point clouds Open3d appends the points at the end,\n",
    "# rolling_window_total_points will indicate how many point we need\n",
    "# to grab starting from the end such that we ensure to be taking \n",
    "# the N FULL point clouds define by rolling window.\n",
    "rolling_window_total_points = pcds_rolling_window * pcd_size\n",
    "\n",
    "vis_heigth, vis_width = 1000, 1000  # Window size for displaying pcd"
   ]
  },
  {
   "cell_type": "markdown",
   "metadata": {},
   "source": [
    "### This equation shows the relationship of individual transforms between a PCD and their previous PCD. Therefore is <b>ESSENTIAL<b> to initialize the <b>FIRST PCD<b> w.r.t to world frame.  \n",
    "$$\n",
    "   T^{w}_{pcd_i} = T^{w}_{pcd_0} \\cdot T^{pcd_0}_{pcd_1} \\cdot T^{pcd_1}_{pcd_2} \\cdot ... \\cdot T^{pcd_{i-1}}_{pcd_i}\n",
    "$$\n",
    "\n",
    "\n",
    "### A couple of assumptions:\n",
    "- We are assuming the the trayectory is continous and there are <b>NO<b> jumps in space, this means that the <b>NEXT<b> PCD should be located pretty close to the current PCD.\n",
    "- We currently dont have any odometry data, therefore the best initialization pose for the new PCD is the current pose (transform) of the PCD.\n",
    "   - In other words this means every new PCD will appear on top of the previous PCD (in reality is not the case because we \\\n",
    "   dont know how open3d defines the origin frame for each PCD, but assuming is the centroid of mass then yes to some level).\n",
    "\n",
    "**<b>Comment:<b> ICP output is the best guess transformation from <b>CURRENT PCD<b> to <b>PREVIOUS PCD<b>:\n",
    " $$\n",
    "   ICP_{output} = T^{pcd_{i-1}}_{pcd_i}\n",
    " $$\n",
    "\n",
    " "
   ]
  },
  {
   "cell_type": "code",
   "execution_count": 8,
   "metadata": {},
   "outputs": [
    {
     "name": "stdout",
     "output_type": "stream",
     "text": [
      "Image: 1\n",
      "Image: 2\n",
      "Image: 3\n",
      "Image: 4\n",
      "Image: 5\n",
      "Image: 6\n",
      "Image: 7\n",
      "Image: 8\n",
      "Image: 9\n",
      "Image: 10\n"
     ]
    }
   ],
   "source": [
    "#  *** **************** ******************** ******************** ******************** ******************** ***\n",
    "#  ******************** This approach is for stitching NEW point cloud with PREVIOUS. ******************** \n",
    "#  *** **************** ******************** ******************** ******************** ******************** ***\n",
    "stitcher = Stitcher(**config[\"stitcher_params\"])   \n",
    "dataset = dataloader_dmap(dataset_path, ground_truth=True)\n",
    "\n",
    "pcd_0 = o3d.geometry.PointCloud()\n",
    "pcd_1 = o3d.geometry.PointCloud()\n",
    "\n",
    "dmap_0, img_0 = next(dataset)\n",
    "\n",
    "stitcher.generate_pointcloud(img_0, dmap_0, pcd_0)\n",
    "pcd_0 = stitcher.outlier_removal(pcd_0)                                                   # First some preprocessing/outlier removal\n",
    "\n",
    "pcd_history = pcd_history_down = copy.deepcopy(pcd_0)\n",
    "history_points_xyz = np.array(pcd_history.points) \n",
    "\n",
    "vis = o3d.visualization.Visualizer()                                                      # *********************\n",
    "vis.create_window(height=vis_heigth, width=vis_width)                                     # Setting up visualizer\n",
    "vis.add_geometry(pcd_history_down)                                                        # *********************\n",
    "\n",
    "for i, package in enumerate(dataset):\n",
    "    dmap_1, img_1 = package\n",
    "    stitcher.generate_pointcloud(img_1, dmap_1, pcd_1)\n",
    "    pcd_1 = stitcher.outlier_removal(pcd_1)                                              # First some preprocessing/outlier removal\n",
    "    \n",
    "    pcd_1_temp = copy.deepcopy(pcd_1)\n",
    "    \n",
    "    if len(history_points_xyz) >= (rolling_window_total_points):                          # This if-statement makes sure that we have enough pcds to make a rolling window\n",
    "        pass\n",
    "    else:\n",
    "        stitcher.point_cloud_init_pose(pcd_0, stitcher.current_transform)                 # The initial current_transform is w.r.t. world frame.   \n",
    "        \n",
    "    stitcher.point_cloud_init_pose(pcd_1, stitcher.current_transform)                     # As the name implies first initialize PCD on specified loc.\n",
    "    result_icp = stitcher.global_and_icp_registration_v2(pcd_1, pcd_0)                    # Calculate the best transform starting between PCDs. This transformation is from current pcd to previous pcd\n",
    "    current_transform = stitcher.current_transform @ result_icp.transformation            # Calculate the new current transform of the trayectory. \n",
    "    stitcher.set_current_transform(current_transform)                                     # This is useful for the next CONSECUTIVE PCD. As the starting loc.\n",
    "    \n",
    "    stitcher.transforms_history.append(result_icp.transformation)                         # This is useful to have a graph of all the transforms for further analysis                        \n",
    "    \n",
    "    pcd_history += pcd_1.transform(result_icp.transformation)                             # This represents the WHOLE PCD as we progress in time  \n",
    "    \n",
    "    vis.update_geometry(pcd_history_down)\n",
    "    vis.poll_events()\n",
    "    vis.update_renderer()\n",
    "    \n",
    "    history_points_xyz = np.array(pcd_history.points)                            \n",
    "    history_points_rgb = np.array(pcd_history.colors) \n",
    "        \n",
    "    if len(history_points_xyz) >= (rolling_window_total_points):                          # If we have enough points for rolling windows we proceed with it  \n",
    "        pcd_0 = o3d.geometry.PointCloud()                                                 # it means that pcd_0 will not be just the old point cloud but a group of prev pcds.\n",
    "        pcd_0.points = o3d.utility.Vector3dVector(history_points_xyz[-(rolling_window_total_points):, :]) # Get points information representing rolling window\n",
    "        pcd_0.colors = o3d.utility.Vector3dVector(history_points_rgb[-(rolling_window_total_points):, :]) # Get points information representing rolling window\n",
    "    else:\n",
    "        pcd_0 = copy.deepcopy(pcd_1_temp)\n",
    "\n",
    "    #print(f\"Image: {i+1}\")\n",
    "    if (i+1) == 199:\n",
    "        break\n",
    "        \n",
    "vis.destroy_window()\n",
    "o3d.visualization.draw_geometries([pcd_history])"
   ]
  },
  {
   "cell_type": "markdown",
   "metadata": {},
   "source": [
    "### If you want to use the WHOLE history of point clouds to do the allignment instead of rolling window just remove the if statments. (Compare both code examples to see the differences)\n",
    "\n",
    "### Be AWARE that as you increase the history of point clouds the allignment process will take longer as the global allignment is evaluating ALL existing points."
   ]
  },
  {
   "cell_type": "code",
   "execution_count": 5,
   "metadata": {},
   "outputs": [],
   "source": [
    "#  *** **************** ******************** ******************** ******************** ******************** ***\n",
    "#  ******************** This approach is for stitching NEW point cloud with PREVIOUS. ******************** \n",
    "#  *** **************** ******************** ******************** ******************** ******************** ***\n",
    "stitcher = Stitcher(**config[\"stitcher_params\"])   \n",
    "dataset = dataloader_dmap(dataset_path, ground_truth=True)\n",
    "\n",
    "pcd_0 = o3d.geometry.PointCloud()\n",
    "pcd_1 = o3d.geometry.PointCloud()\n",
    "\n",
    "dmap_0, img_0 = next(dataset)\n",
    "\n",
    "stitcher.generate_pointcloud(img_0, dmap_0, pcd_0)\n",
    "pcd_0 = stitcher.outlier_removal(pcd_0)                                                   # First some preprocessing/outlier removal\n",
    "stitcher.point_cloud_init_pose(pcd_0, stitcher.current_transform)                         # The initial current_transform is w.r.t. world frame.   \n",
    "\n",
    "pcd_history = pcd_history_down = copy.deepcopy(pcd_0)\n",
    "\n",
    "vis = o3d.visualization.Visualizer()                                                      # *********************\n",
    "vis.create_window(height=vis_heigth, width=vis_width)                                     # Setting up visualizer\n",
    "vis.add_geometry(pcd_history_down)                                                        # *********************\n",
    "\n",
    "for i, package in enumerate(dataset):\n",
    "    dmap_1, img_1 = package\n",
    "    stitcher.generate_pointcloud(img_1, dmap_1, pcd_1)\n",
    "    pcd_1 = stitcher.outlier_removal(pcd_1)                                              # First some preprocessing/outlier removal\n",
    "    \n",
    "    pcd_1_temp = copy.deepcopy(pcd_1)           \n",
    "        \n",
    "    stitcher.point_cloud_init_pose(pcd_1, stitcher.current_transform)                     # As the name implies first initialize PCD on specified loc.\n",
    "    result_icp = stitcher.global_and_icp_registration_v2(pcd_1, pcd_0)                    # Calculate the best transform starting between PCDs. This transformation is from current pcd to previous pcd\n",
    "    current_transform = stitcher.current_transform @ result_icp.transformation            # Calculate the new current transform of the trayectory. \n",
    "    stitcher.set_current_transform(current_transform)                                     # This is useful for the next CONSECUTIVE PCD. As the starting loc.\n",
    "    \n",
    "    stitcher.transforms_history.append(result_icp.transformation)                         # This is useful to have a graph of all the transforms for further analysis. \n",
    "    \n",
    "    pcd_history += pcd_1.transform(result_icp.transformation)                             # This represents the WHOLE PCD as we progress in time   \n",
    "    \n",
    "    vis.update_geometry(pcd_history_down)\n",
    "    vis.poll_events()\n",
    "    vis.update_renderer()\n",
    "    \n",
    "    pcd_0 = pcd_history\n",
    "\n",
    "    #print(f\"Image: {i+1}\")\n",
    "    if (i+1) == 199:\n",
    "        break\n",
    "        \n",
    "vis.destroy_window()\n",
    "o3d.visualization.draw_geometries([pcd_history])"
   ]
  },
  {
   "cell_type": "code",
   "execution_count": null,
   "metadata": {},
   "outputs": [],
   "source": []
  }
 ],
 "metadata": {
  "kernelspec": {
   "display_name": "danbots",
   "language": "python",
   "name": "python3"
  },
  "language_info": {
   "codemirror_mode": {
    "name": "ipython",
    "version": 3
   },
   "file_extension": ".py",
   "mimetype": "text/x-python",
   "name": "python",
   "nbconvert_exporter": "python",
   "pygments_lexer": "ipython3",
   "version": "3.10.13"
  }
 },
 "nbformat": 4,
 "nbformat_minor": 2
}
